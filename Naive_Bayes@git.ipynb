{
 "cells": [
  {
   "cell_type": "code",
   "execution_count": 1,
   "metadata": {},
   "outputs": [
    {
     "name": "stderr",
     "output_type": "stream",
     "text": [
      "C:\\Users\\user\\Anaconda3\\lib\\site-packages\\sklearn\\cross_validation.py:41: DeprecationWarning: This module was deprecated in version 0.18 in favor of the model_selection module into which all the refactored classes and functions are moved. Also note that the interface of the new CV iterators are different from that of this module. This module will be removed in 0.20.\n",
      "  \"This module will be removed in 0.20.\", DeprecationWarning)\n"
     ]
    }
   ],
   "source": [
    "import pandas as pd\n",
    "import matplotlib.pyplot as plt\n",
    "import re\n",
    "import time\n",
    "import warnings\n",
    "import numpy as np\n",
    "from nltk.corpus import stopwords\n",
    "from sklearn.decomposition import TruncatedSVD\n",
    "from sklearn.preprocessing import normalize\n",
    "from sklearn.feature_extraction.text import CountVectorizer\n",
    "from sklearn.manifold import TSNE\n",
    "import seaborn as sns\n",
    "from sklearn.neighbors import KNeighborsClassifier\n",
    "from sklearn.metrics import confusion_matrix\n",
    "from sklearn.metrics.classification import accuracy_score, log_loss\n",
    "from sklearn.feature_extraction.text import TfidfVectorizer\n",
    "from sklearn.linear_model import SGDClassifier\n",
    "from imblearn.over_sampling import SMOTE\n",
    "from collections import Counter\n",
    "from scipy.sparse import hstack\n",
    "from sklearn.multiclass import OneVsRestClassifier\n",
    "from sklearn.svm import SVC\n",
    "from sklearn.cross_validation import StratifiedKFold \n",
    "from collections import Counter, defaultdict\n",
    "from sklearn.calibration import CalibratedClassifierCV\n",
    "from sklearn.naive_bayes import MultinomialNB\n",
    "from sklearn.naive_bayes import GaussianNB\n",
    "from sklearn.model_selection import train_test_split\n",
    "from sklearn.model_selection import GridSearchCV\n",
    "import math\n",
    "from sklearn.metrics import normalized_mutual_info_score\n",
    "from sklearn.ensemble import RandomForestClassifier\n",
    "warnings.filterwarnings(\"ignore\")\n",
    "\n",
    "from mlxtend.classifier import StackingClassifier\n",
    "\n",
    "from sklearn import model_selection\n",
    "from sklearn.linear_model import LogisticRegression\n",
    "  "
   ]
  },
  {
   "cell_type": "code",
   "execution_count": 2,
   "metadata": {
    "collapsed": true
   },
   "outputs": [],
   "source": [
    "data = pd.read_csv('training/training_variants')\n",
    "data_text = pd.read_csv('training/training_text',sep=\"\\|\\|\",names=[\"ID\",\"TEXT\"],skiprows=1) \n"
   ]
  },
  {
   "cell_type": "code",
   "execution_count": null,
   "metadata": {
    "collapsed": true
   },
   "outputs": [],
   "source": [
    "stop_words=set(stopwords.words('english'))\n",
    "\n",
    "def nlp_preprocessing(total_text,index,column):\n",
    "    if type(total_text) is not int:\n",
    "        string = \"\"\n",
    "        total_text=re.sub('[^a-zA-Z0-9\\n]', ' ', total_text)\n",
    "        total_text = re.sub('\\s+',' ', total_text)\n",
    "        total_text = total_text.lower()\n",
    "        \n",
    "        for word in total_text.split():\n",
    "            if not word in stop_words:\n",
    "                string += word + \" \"\n",
    "        data_text[column][index] = string\n",
    "\n",
    "for index, row in data_text.iterrows():\n",
    "    nlp_preprocessing(row['TEXT'], index, 'TEXT')"
   ]
  },
  {
   "cell_type": "code",
   "execution_count": 3,
   "metadata": {
    "collapsed": true
   },
   "outputs": [],
   "source": [
    "#you need to run the above code\n",
    "#dont run this lines of code\n",
    "result=pd.read_pickle('pickle/copy/result')"
   ]
  },
  {
   "cell_type": "code",
   "execution_count": 4,
   "metadata": {
    "collapsed": true
   },
   "outputs": [],
   "source": [
    "result=pd.merge(data,data_text,on='ID',how='left')  "
   ]
  },
  {
   "cell_type": "code",
   "execution_count": 5,
   "metadata": {
    "collapsed": true
   },
   "outputs": [],
   "source": [
    "y_true=result['Class'].values\n",
    "result.Gene=result.Gene.str.replace('\\s+', '_')\n",
    "result.Variation=result.Variation.str.replace('\\s+', '_')"
   ]
  },
  {
   "cell_type": "code",
   "execution_count": 6,
   "metadata": {
    "collapsed": true
   },
   "outputs": [],
   "source": [
    "X_train,test_df,y_train,y_test=train_test_split(result,y_true,stratify=y_true,test_size=0.2)\n",
    "train_df,cv_df,y_train,y_cv=train_test_split(X_train,y_train,stratify=y_train,test_size=0.2)"
   ]
  },
  {
   "cell_type": "code",
   "execution_count": 13,
   "metadata": {
    "collapsed": true
   },
   "outputs": [],
   "source": []
  },
  {
   "cell_type": "code",
   "execution_count": 8,
   "metadata": {
    "collapsed": true
   },
   "outputs": [],
   "source": [
    "gene_vectorizer = CountVectorizer()\n",
    "train_gene_feature_onehotCoding = gene_vectorizer.fit_transform(train_df['Gene'])\n",
    "test_gene_feature_onehotCoding = gene_vectorizer.transform(test_df['Gene'])\n",
    "cv_gene_feature_onehotCoding = gene_vectorizer.transform(cv_df['Gene'])\n",
    "\n",
    "variation_vectorizer=CountVectorizer()\n",
    "train_variation_feature_onehotCoding=variation_vectorizer.fit_transform(train_df['Variation'])\n",
    "test_variation_feature_onehotCoding=variation_vectorizer.transform(test_df['Variation'])\n",
    "cv_variation_feature_onehotCoding=variation_vectorizer.transform(cv_df['Variation'])\n",
    "\n",
    "text_vectorizer=CountVectorizer(min_df=3)\n",
    "train_text_feature_onehotCoding=text_vectorizer.fit_transform(train_df['TEXT'])\n",
    "train_text_features= text_vectorizer.get_feature_names()"
   ]
  },
  {
   "cell_type": "code",
   "execution_count": 9,
   "metadata": {
    "collapsed": true
   },
   "outputs": [],
   "source": [
    "train_text_feature_onehotCoding=normalize(train_text_feature_onehotCoding,axis=0)\n",
    "test_text_feature_onehotCoding=text_vectorizer.transform(test_df['TEXT'])\n",
    "test_text_feature_onehotCoding=normalize(test_text_feature_onehotCoding, axis=0)\n",
    "cv_text_feature_onehotCoding=text_vectorizer.transform(cv_df['TEXT'])\n",
    "cv_text_feature_onehotCoding=normalize(cv_text_feature_onehotCoding, axis=0)"
   ]
  },
  {
   "cell_type": "code",
   "execution_count": 10,
   "metadata": {
    "collapsed": true
   },
   "outputs": [],
   "source": [
    "train_gene_var_onehotCoding=hstack((train_gene_feature_onehotCoding,train_variation_feature_onehotCoding))\n",
    "test_gene_var_onehotCoding=hstack((test_gene_feature_onehotCoding,test_variation_feature_onehotCoding))\n",
    "cv_gene_var_onehotCoding=hstack((cv_gene_feature_onehotCoding,cv_variation_feature_onehotCoding))\n",
    "\n",
    "train_x_onehotCoding=hstack((train_gene_var_onehotCoding,train_text_feature_onehotCoding)).tocsr()\n",
    "train_y=np.array(list(train_df['Class']))\n",
    "\n",
    "test_x_onehotCoding=hstack((test_gene_var_onehotCoding,test_text_feature_onehotCoding)).tocsr()\n",
    "test_y=np.array(list(test_df['Class']))\n",
    "\n",
    "cv_x_onehotCoding=hstack((cv_gene_var_onehotCoding,cv_text_feature_onehotCoding)).tocsr()\n",
    "cv_y=np.array(list(cv_df['Class']))"
   ]
  },
  {
   "cell_type": "code",
   "execution_count": 16,
   "metadata": {},
   "outputs": [
    {
     "name": "stdout",
     "output_type": "stream",
     "text": [
      "One hot encoding features :\n",
      "(number of data points * number of features) in train data =  (2124, 59905)\n",
      "(number of data points * number of features) in test data =  (665, 59905)\n",
      "(number of data points * number of features) in cross validation data = (532, 59905)\n"
     ]
    }
   ],
   "source": [
    "print(\"One hot encoding features :\")\n",
    "print(\"(number of data points * number of features) in train data = \", train_x_onehotCoding.shape)\n",
    "print(\"(number of data points * number of features) in test data = \", test_x_onehotCoding.shape)\n",
    "print(\"(number of data points * number of features) in cross validation data =\", cv_x_onehotCoding.shape)"
   ]
  },
  {
   "cell_type": "code",
   "execution_count": 11,
   "metadata": {},
   "outputs": [
    {
     "name": "stdout",
     "output_type": "stream",
     "text": [
      "for alpha = 1e-05\n",
      "Log Loss : 1.34692472251\n",
      "for alpha = 0.0001\n",
      "Log Loss : 1.33571186104\n",
      "for alpha = 0.001\n",
      "Log Loss : 1.33544842085\n",
      "for alpha = 0.1\n",
      "Log Loss : 1.31865850281\n",
      "for alpha = 1\n",
      "Log Loss : 1.31757676315\n",
      "for alpha = 10\n",
      "Log Loss : 1.37559137981\n",
      "for alpha = 100\n",
      "Log Loss : 1.44741286072\n",
      "for alpha = 1000\n",
      "Log Loss : 1.40497367937\n"
     ]
    },
    {
     "data": {
      "image/png": "[encoded data removed]",
      "text/plain": [
       "<matplotlib.figure.Figure at 0x21a0534e390>"
      ]
     },
     "metadata": {},
     "output_type": "display_data"
    },
    {
     "name": "stdout",
     "output_type": "stream",
     "text": [
      "For values of best alpha =  1 The train log loss is: 0.916678188256\n",
      "For values of best alpha =  1 The cross validation log loss is: 1.31757676315\n",
      "For values of best alpha =  1 The test log loss is: 1.28693860488\n"
     ]
    }
   ],
   "source": [
    "alpha=[0.00001, 0.0001, 0.001, 0.1, 1, 10, 100,1000]\n",
    "cv_log_error_array=[]\n",
    "for i in alpha:\n",
    "    print(\"for alpha =\", i)\n",
    "    clf=MultinomialNB(alpha=i)\n",
    "    clf.fit(train_x_onehotCoding,train_y)\n",
    "    sig_clf=CalibratedClassifierCV(clf,method=\"sigmoid\")\n",
    "    sig_clf.fit(train_x_onehotCoding,train_y)\n",
    "    sig_clf_probs=sig_clf.predict_proba(cv_x_onehotCoding)\n",
    "    cv_log_error_array.append(log_loss(cv_y,sig_clf_probs,labels=clf.classes_,eps=1e-15))\n",
    "    print(\"Log Loss :\",log_loss(cv_y,sig_clf_probs))\n",
    "    \n",
    "fig,ax=plt.subplots()\n",
    "ax.plot(np.log10(alpha),cv_log_error_array,c='g')\n",
    "for i, txt in enumerate(np.round(cv_log_error_array,3)):\n",
    "    ax.annotate((alpha[i],str(txt)), (np.log10(alpha[i]),cv_log_error_array[i]))\n",
    "plt.grid()\n",
    "plt.xticks(np.log10(alpha))\n",
    "plt.title(\"Cross Validation Error for each alpha\")\n",
    "plt.xlabel(\"Alpha i's\")\n",
    "plt.ylabel(\"Error measure\")\n",
    "plt.show()\n",
    "\n",
    "best_alpha=np.argmin(cv_log_error_array)\n",
    "clf=MultinomialNB(alpha=alpha[best_alpha])\n",
    "clf.fit(train_x_onehotCoding,train_y)\n",
    "sig_clf=CalibratedClassifierCV(clf,method=\"sigmoid\")\n",
    "sig_clf.fit(train_x_onehotCoding,train_y)\n",
    "\n",
    "\n",
    "predict_y=sig_clf.predict_proba(train_x_onehotCoding)\n",
    "print('For values of best alpha = ', alpha[best_alpha], \"The train log loss is:\",log_loss(y_train,predict_y, labels=clf.classes_, eps=1e-15))\n",
    "predict_y = sig_clf.predict_proba(cv_x_onehotCoding)\n",
    "print('For values of best alpha = ', alpha[best_alpha], \"The cross validation log loss is:\",log_loss(y_cv, predict_y, labels=clf.classes_, eps=1e-15))\n",
    "predict_y = sig_clf.predict_proba(test_x_onehotCoding)\n",
    "print('For values of best alpha = ', alpha[best_alpha], \"The test log loss is:\",log_loss(y_test, predict_y, labels=clf.classes_, eps=1e-15))\n",
    " "
   ]
  },
  {
   "cell_type": "code",
   "execution_count": 27,
   "metadata": {},
   "outputs": [
    {
     "name": "stdout",
     "output_type": "stream",
     "text": [
      "Log Loss : 1.31757676315\n",
      "Number of missclassified point : 0.3890977443609023\n"
     ]
    }
   ],
   "source": [
    "clf=MultinomialNB(alpha=alpha[best_alpha])\n",
    "clf.fit(train_x_onehotCoding,train_y)\n",
    "sig_clf=CalibratedClassifierCV(clf,method=\"sigmoid\")\n",
    "sig_clf.fit(train_x_onehotCoding,train_y)\n",
    "sig_clf_probs=sig_clf.predict_proba(cv_x_onehotCoding)\n",
    "print(\"Log Loss :\",log_loss(cv_y,sig_clf_probs))\n",
    "print(\"Number of missclassified point :\", np.count_nonzero((sig_clf.predict(cv_x_onehotCoding)- cv_y))/cv_y.shape[0])"
   ]
  },
  {
   "cell_type": "code",
   "execution_count": 26,
   "metadata": {},
   "outputs": [
    {
     "name": "stdout",
     "output_type": "stream",
     "text": [
      "Predicted Class : 1\n",
      "Predicted Class Probabilities: [[ 0.6111  0.0874  0.0221  0.1022  0.0497  0.0357  0.0821  0.0062  0.0034]]\n",
      "Actual Class : 1\n",
      "--------------------------------------------------\n"
     ]
    }
   ],
   "source": [
    "test_point_index=166\n",
    "no_feature=100\n",
    "predicted_cls=sig_clf.predict(test_x_onehotCoding[test_point_index])\n",
    "print(\"Predicted Class :\", predicted_cls[0])\n",
    "print(\"Predicted Class Probabilities:\", np.round(sig_clf.predict_proba(test_x_onehotCoding[test_point_index]),4))\n",
    "print(\"Actual Class :\", test_y[test_point_index])\n",
    "indices = np.argsort(-clf.coef_)[predicted_cls-1][:,:no_feature]\n",
    "print(\"-\"*50)"
   ]
  },
  {
   "cell_type": "code",
   "execution_count": null,
   "metadata": {
    "collapsed": true
   },
   "outputs": [],
   "source": []
  }
 ],
 "metadata": {
  "kernelspec": {
   "display_name": "Python 3",
   "language": "python",
   "name": "python3"
  },
  "language_info": {
   "codemirror_mode": {
    "name": "ipython",
    "version": 3
   },
   "file_extension": ".py",
   "mimetype": "text/x-python",
   "name": "python",
   "nbconvert_exporter": "python",
   "pygments_lexer": "ipython3",
   "version": "3.6.3"
  }
 },
 "nbformat": 4,
 "nbformat_minor": 2
}
